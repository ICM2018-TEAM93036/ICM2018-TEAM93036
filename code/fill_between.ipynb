{
 "cells": [
  {
   "cell_type": "code",
   "execution_count": 5,
   "metadata": {},
   "outputs": [
    {
     "name": "stdout",
     "output_type": "stream",
     "text": [
      "[  7.5  10.5  14.5  19.5  21.5  20.5  24.5  29.5  34.5  40.5]\n",
      "[ 11.5  14.5  18.5  23.5  25.5  24.5  27.5  33.5  38.5  44.5]\n"
     ]
    },
    {
     "data": {
      "text/plain": [
       "<matplotlib.figure.Figure at 0x29a37148358>"
      ]
     },
     "metadata": {},
     "output_type": "display_data"
    },
    {
     "data": {
      "image/png": "[encoded data removed]",
      "text/plain": [
       "<matplotlib.figure.Figure at 0x29a375b6be0>"
      ]
     },
     "metadata": {},
     "output_type": "display_data"
    }
   ],
   "source": [
    "import matplotlib.pyplot as plt \n",
    "import numpy as np\n",
    "\n",
    "plt.style.use('ggplot')\n",
    "plt.rc('font', family='serif', serif='Times')\n",
    "plt.rc('text', usetex=True)\n",
    "plt.rc('xtick', labelsize=13)\n",
    "plt.rc('ytick', labelsize=13)\n",
    "plt.rc('axes', labelsize=13)\n",
    "# omit data process\n",
    "plt.subplots_adjust(top=0.92, bottom=0.2, left=0.10, right=0.95, hspace=0.25,\n",
    "                    wspace=0.35)\n",
    "\n",
    "t = np.asarray([2004,2005,2006,2007,2008,2009,2010,2011,2012,2013])\n",
    "s = np.asarray([9.6,12.5,16.9,21.2,23.4,22.7,26,31.7,36.6,42.8])\n",
    "\n",
    "s_min = np.floor(s)-1.5\n",
    "print(s_min)\n",
    "s_max = np.ceil(s)+1.5\n",
    "print(s_max)\n",
    "fig, ax = plt.subplots()\n",
    "# plt.axes(axisbg=\"#EAEAEA\")\n",
    "# plt.grid(True, linestyle=\"-\", linewidth=1, color=\"white\", alpha=0.5)\n",
    "flatui = [\"#FFFFFF\", \"#2ECC71\", \"#9AFF9A\", \"#1E90FF\", \"#87CEEB\", \"#EE0000\", \"#FF6A6A\"]\n",
    "ax.plot(t, s, label=\"Advertising Revenue\", color=flatui[4], linewidth=2.0)\n",
    "# ax.plot(t, s_min, label=\"Advertising Revenue\", color=flatui[5], linewidth=2.0)\n",
    "# ax.plot(t, s_max, label=\"Advertising Revenue\", color=flatui[5], linewidth=2.0)\n",
    "ax.fill_between(t, s_min, s_max, facecolor=flatui[2], alpha=0.2)\n",
    "# plt.plot(t, s, label=\"Adversial Revenue\", linewidth=2.0)\n",
    "# plt.fill_between(t, s_min, s_max,  alpha=0.5)\n",
    "# plt.plot(x5, yy, label=\"Reverse Curriculum Generation RL\", color=flatui[1], linewidth=2.0)\n",
    "# plt.fill_between(x5, yy_min, yy_max, facecolor=flatui[2], edgecolor=flatui[0], alpha=0.5)\n",
    "# plt.plot(x1, y, label=\"Neither Tendency Reward nor History Phases\", color=flatui[3], linewidth=2.0)\n",
    "# plt.fill_between(x1, y_min, y_max, facecolor=flatui[4], edgecolor=flatui[0], alpha=0.5)\n",
    "\n",
    "# ax.set_ylabel(r'Price (\\$bn)')\n",
    "# ax.set_xlabel('Year')\n",
    "ax.set_ylim(9.6, 42.8)\n",
    "ax.set_xlim(2004, 2013)\n",
    "\n",
    "# ax = plt.gca()\n",
    "# ax.spines['right'].set_visible(False)\n",
    "# ax.spines['top'].set_visible(False)\n",
    "# ax.xaxis.set_ticks_position('bottom')\n",
    "# ax.yaxis.set_ticks_position('left')\n",
    "plt.xlabel(\"Year\")\n",
    "plt.ylabel(r'Price (\\$bn)')\n",
    "\n",
    "plt.legend(loc=\"best\", framealpha=0.)\n",
    "plt.savefig(\"adv_rev.pdf\")\n",
    "plt.show()"
   ]
  },
  {
   "cell_type": "code",
   "execution_count": null,
   "metadata": {
    "collapsed": true
   },
   "outputs": [],
   "source": []
  }
 ],
 "metadata": {
  "kernelspec": {
   "display_name": "Python 3",
   "language": "python",
   "name": "python3"
  },
  "language_info": {
   "codemirror_mode": {
    "name": "ipython",
    "version": 3
   },
   "file_extension": ".py",
   "mimetype": "text/x-python",
   "name": "python",
   "nbconvert_exporter": "python",
   "pygments_lexer": "ipython3",
   "version": "3.6.1"
  }
 },
 "nbformat": 4,
 "nbformat_minor": 2
}
